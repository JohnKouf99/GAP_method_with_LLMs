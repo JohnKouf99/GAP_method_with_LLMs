{
 "cells": [
  {
   "cell_type": "code",
   "execution_count": 1,
   "metadata": {},
   "outputs": [],
   "source": [
    "import sys\n",
    "import pandas as pd\n",
    "sys.path.append('scripts')  \n",
    "from scripts.search import *\n",
    "from scripts.harvester import *\n",
    "from run import *\n",
    "import urllib3\n",
    "urllib3.disable_warnings(urllib3.exceptions.InsecureRequestWarning)"
   ]
  },
  {
   "cell_type": "code",
   "execution_count": 2,
   "metadata": {},
   "outputs": [],
   "source": [
    "# claim = 'Ο καιρός στην Αθήνα'\n",
    "\n",
    "# my_searcher = GoogleSearch('https://www.google.com')\n",
    "# url_list = my_searcher.google_search(claim, 5)"
   ]
  },
  {
   "cell_type": "code",
   "execution_count": 3,
   "metadata": {},
   "outputs": [],
   "source": [
    "# my_harvester = Harvester(list(url_list)[:5], claim, timeout=1000, claim_id=0)\n",
    "# df = my_harvester.run()"
   ]
  },
  {
   "cell_type": "code",
   "execution_count": 4,
   "metadata": {},
   "outputs": [],
   "source": [
    "# max_idx = df['most_similar_par_cos'].idxmax()\n",
    "# value = df['body'].iloc[max_idx]\n",
    "# print(str(value))"
   ]
  },
  {
   "cell_type": "code",
   "execution_count": 5,
   "metadata": {},
   "outputs": [
    {
     "name": "stdout",
     "output_type": "stream",
     "text": [
      "Scrolling down... 2\n",
      "Scrolling down... 2\n",
      "end of page reached\n",
      "Scrolling down... 2\n",
      "end of page reached\n",
      "reducing the number of claims......\n",
      "Scrolling down... 2\n",
      "end of page reached\n",
      "reducing the number of claims......\n",
      "Scrolling down... 2\n",
      "end of page reached\n",
      "reducing the number of claims......\n",
      "Scrolling down... 2\n",
      "end of page reached\n",
      "reducing the number of claims......\n",
      "https://www.avgi.gr/politiki/480038_ayta-den-ehei-kanei-i-kybernisi-mitsotaki-gia-tis-gynaikes\n",
      "https://katerinanotopoulou.gr/nea-anakoinoseis/1506-i-kyvernisi-den-prattei-ta-aparaitita-gia-ti-symmorfosi-me-tis-provlepseis-tis-symvasis-tis-konstantinoypolis.html\n",
      "Harvesting url: https://www.avgi.gr/politiki/480038_ayta-den-ehei-kanei-i-kybernisi-mitsotaki-gia-tis-gynaikes\n",
      "Invalid url: https://www.avgi.gr/politiki/480038_ayta-den-ehei-kanei-i-kybernisi-mitsotaki-gia-tis-gynaikes, \n",
      "                      skipping procedure....\n",
      "Harvesting url: https://katerinanotopoulou.gr/nea-anakoinoseis/1506-i-kyvernisi-den-prattei-ta-aparaitita-gia-ti-symmorfosi-me-tis-provlepseis-tis-symvasis-tis-konstantinoypolis.html\n",
      "No title found\n",
      "skipping procedure....\n",
      "Could not find relevant sources.\n",
      "Prompting the model without any external sources.....\n",
      "\n",
      "\n",
      "\n",
      "Η δήλωση αυτή μπορεί να χαρακτηριστεί ως \"μισαλήθεια\". \n",
      "\n",
      "Δικαιολόγηση: \n",
      "\n",
      "1. **Άνοδος αντιπαραθέσεων και συγκρούσεων**: Είναι γνωστό ότι διάφοροι παράγοντες επηρεάζουν τις οικογενειακές σχέσεις και η εφαρμογή νέων νόμων μπορεί να προκαλέσει αλλαγές μέσα σε μία οικογένεια. Με το Ν.4800/2021, υπήρξαν αλλαγές στον τρόπο που αντιμετωπίζονται οι υποθέσεις οικογενειακού δικαίου, κάτι που ενδέχεται να έχει οδηγήσει σε περισσότερα περιστατικά αντιπαραθέσεων.\n",
      "\n",
      "2. **Ενδοοικογενειακή βία**: Η αύξηση των περιστατικών ενδοοικογενειακής βίας σχετίζεται με πολλές κοινωνικές και οικονομικές παραμέτρους και δεν μπορεί να αποδοθεί αποκλειστικά σε αυτό το νόμο. Ωστόσο, με την αύξηση της οικονομικής πίεσης και τις ψυχολογικές επιπτώσεις της πανδημίας, η ενδοοικογενειακή βία έχει αυξηθεί σε πολλές χώρες, συμπεριλαμβανομένης και της Ελλάδας.\n",
      "\n",
      "3. **Εξέλιξη υποθέσεων στα δικαστήρια**: Ο αριθμός των υποθέσεων που προσδιορίζονται στα δικαστήρια μπορεί να έχει διογκωθεί λόγω των ερμηνειών του νόμου και του αυξημένου ενδιαφέροντος για τα δικαιώματα των γυναικών και των παιδιών και γενικότερα για την οικογενειακή διάσταση των δικαστικών υποθέσεων. Ωστόσο, δεν υπάρχει επαρκής απόδειξη ότι το δικαστικό σύστημα βρίσκεται σε αδυναμία να τις αντιμετωπίσει.\n",
      "\n",
      "Εν κατακλείδι, η δήλωση περιλαμβάνει στοιχεία αλήθειας, αλλά η σύνδεση που προκύπτει και οι γενικεύσεις που γίνονται, καθιστούν την δήλωση μισαλήθεια.\n"
     ]
    }
   ],
   "source": [
    "model = run('Με το Ν.4800/2021 οξύνθηκαν οι αντιπαραθέσεις και οι συγκρούσεις μέσα στις οικογένειες, εκτοξεύτηκε η ενδοοικογενειακή βία και βεβαίως διογκώθηκε τόσο πολύ ο αριθμός των οικογενειακών υποθέσεων στα δικαστήρια που το σύστημα απονομής δικαιοσύνης βρίσκεται πλέον σε αδυναμία να τις αντιμετωπίσει» ανέφερε επί λέξει.', n=3)\n",
    "model.prompt_model()"
   ]
  }
 ],
 "metadata": {
  "kernelspec": {
   "display_name": "venv",
   "language": "python",
   "name": "python3"
  },
  "language_info": {
   "codemirror_mode": {
    "name": "ipython",
    "version": 3
   },
   "file_extension": ".py",
   "mimetype": "text/x-python",
   "name": "python",
   "nbconvert_exporter": "python",
   "pygments_lexer": "ipython3",
   "version": "3.12.6"
  }
 },
 "nbformat": 4,
 "nbformat_minor": 2
}
