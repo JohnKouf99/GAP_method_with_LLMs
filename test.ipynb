{
 "cells": [
  {
   "cell_type": "code",
   "execution_count": 1,
   "metadata": {},
   "outputs": [],
   "source": [
    "import sys\n",
    "import pandas as pd\n",
    "sys.path.append('scripts')  \n",
    "from scripts.search import *\n",
    "from scripts.harvester import *\n",
    "from run import *\n",
    "import urllib3\n",
    "urllib3.disable_warnings(urllib3.exceptions.InsecureRequestWarning)"
   ]
  },
  {
   "cell_type": "code",
   "execution_count": 2,
   "metadata": {},
   "outputs": [],
   "source": [
    "# claim = 'Ο καιρός στην Αθήνα'\n",
    "\n",
    "# my_searcher = GoogleSearch('https://www.google.com')\n",
    "# url_list = my_searcher.google_search(claim, 5)"
   ]
  },
  {
   "cell_type": "code",
   "execution_count": 3,
   "metadata": {},
   "outputs": [],
   "source": [
    "# my_harvester = Harvester(list(url_list)[:5], claim, timeout=1000, claim_id=0)\n",
    "# df = my_harvester.run()"
   ]
  },
  {
   "cell_type": "code",
   "execution_count": 4,
   "metadata": {},
   "outputs": [],
   "source": [
    "# df"
   ]
  },
  {
   "cell_type": "code",
   "execution_count": 5,
   "metadata": {},
   "outputs": [],
   "source": [
    "# max_idx = df['most_similar_par_cos'].idxmax()\n",
    "# value = df['body'].iloc[max_idx]\n",
    "# print(str(value))"
   ]
  },
  {
   "cell_type": "code",
   "execution_count": 6,
   "metadata": {},
   "outputs": [
    {
     "name": "stdout",
     "output_type": "stream",
     "text": [
      "https://romioitispolis.gr/vale-ston-kafe-soy-to-proi-ayto-to-systatiko-gia-na-apoktiseis-epipedi-koilia/\n",
      "https://cretaone.gr/koilia-plaka-me-mia-kinisi-valte-kathe-proi-ston-kafe-sas-afto-to-yliko-kai-kapste-amesa-lipos/\n",
      "https://www.oloygeia.gr/diatrofi/lipos-stin-koilia-13-synitheies-dialyoyn/\n",
      "https://www.instyle.gr/omorfia/kali-zoi/apoktiste-epipedi-koilia-prosthetontas-ayto-to-systatiko-ston-kafe-sas/\n",
      "https://kbakopoulos.com/diatrofi-kai-lipos-stin-koilia/\n",
      "https://www.facebook.com/100063486583571/posts/1029307235862153/\n",
      "https://www.newsbomb.gr/ygeia/story/1571299/koilia-plaka-me-mia-kinisi-valte-kathe-proi-ston-kafe-sas-afto-to-yliko-kai-kapste-amesa-to-lipos\n",
      "Harvesting url: https://romioitispolis.gr/vale-ston-kafe-soy-to-proi-ayto-to-systatiko-gia-na-apoktiseis-epipedi-koilia/\n",
      "\n",
      "            \n",
      "            Title: Βάλε στον καφέ σου το πρωι αυτό το συστατικό για να αποκτήσεις επίπεδη κοιλιά | Ρωμιοί της Πόλης\n",
      "            \n",
      "\n",
      "Most similar paragraph: Σύμφωνα με έρευνες, η προσθήκη μιας κουταλιάς λαδιού καρύδας στον καφέ μας μπορεί να μας βοηθήσει στην απώλεια των περιττών κιλών μας και την μείωση του λίπους στην κοιλιά. Επιστημονικές μελέτες έχουν αποδείξει ότι το λάδι καρύδας καίει το λίπος και μειώνει την όρεξη. Το λάδι καρύδας ως συμπλήρωμα διατροφής βελτιώνει την πέψη μας και ενισχύει την απορρόφηση πολλών θρεπτικών συστατικών απο τον οργανισμό μας. Επιπλέον, μπορούμε να αντικαταστήσουμε κάθε γλυκαντική ουσία με ένα κουταλάκι λαδιού καρύδας. Εξάλλου, έχει εξαιρετική γεύση που αναμφίβολα θα λατρέψετε!\n",
      "Cosine similarity: 0.8559952315695335\n",
      "                  \n",
      "Harvesting url: https://cretaone.gr/koilia-plaka-me-mia-kinisi-valte-kathe-proi-ston-kafe-sas-afto-to-yliko-kai-kapste-amesa-lipos/\n",
      "\n",
      "            \n",
      "            Title: Advertisment\n",
      "            \n",
      "\n",
      "Most similar paragraph: Σύμφωνα με έρευνες, η προσθήκη μιας κουταλιάς λαδιού καρύδας στον καφέ μας μπορεί να μας βοηθήσει στην απώλεια των περιττών κιλών μας και την μείωση του λίπους στην κοιλιά. Επιστημονικές μελέτες έχουν αποδείξει ότι το λάδι καρύδας καίει το λίπος και μειώνει την όρεξη. Το λάδι καρύδας ως συμπλήρωμα διατροφής βελτιώνει την πέψη μας και ενισχύει την απορρόφηση πολλών θρεπτικών συστατικών απο τον οργανισμό μας.\n",
      "Cosine similarity: 0.8845272243645276\n",
      "                  \n",
      "Harvesting url: https://www.oloygeia.gr/diatrofi/lipos-stin-koilia-13-synitheies-dialyoyn/\n",
      "\n",
      "            \n",
      "            Title: Λίπος στην κοιλιά: 13 απλές, καθημερινές συνήθειες που το διαλύουν - Όλο Υγεία\n",
      "            \n",
      "\n",
      "Most similar paragraph: Το λάδι καρύδας είναι εξαιρετικό για την κοιλιά σας. Στην πραγματικότητα, έρευνα που δημοσιεύτηκε στο\n",
      "Cosine similarity: 0.5234043936605918\n",
      "                  \n",
      "Η δήλωση είναι εν μέρει αληθής.\n",
      "\n",
      "Δικαιολόγηση: Διάφορες μελέτες έχουν δείξει ότι το λάδι καρύδας μπορεί να έχει κάποια θετικά αποτελέσματα στον μεταβολισμό και την καύση του λίπους, ιδίως λόγω των τριγλυκεριδίων μέσης αλυσίδας (MCTs) που περιέχει. Ωστόσο, η ιδέα ότι η προσθήκη μόνο μιας κουταλιάς λαδιού καρύδας στον καφέ θα οδηγήσει άμεσα σε σημαντική απώλεια βάρους ή μείωση του κοιλιακού λίπους είναι υπερβολική. Η απώλεια βάρους εξαρτάται από συνολικούς παράγοντες, όπως η διατροφή, η φυσική δραστηριότητα και ο τρόπος ζωής γενικότερα. Επομένως, αν και μπορεί να μπορεί να υποστηρίξει το μεταβολισμό, δεν αποτελεί μαγική λύση για την απώλεια βάρους.\n"
     ]
    }
   ],
   "source": [
    "model = run('Η προσθήκη μιας κουταλιάς λαδιού καρύδας στον καφέ μας μπορεί να μας βοηθήσει στην απώλεια των περιττών κιλών μας και την μείωση του λίπους στην κοιλιά', 2)\n",
    "model.prompt_model()"
   ]
  },
  {
   "cell_type": "code",
   "execution_count": 18,
   "metadata": {},
   "outputs": [
    {
     "name": "stdout",
     "output_type": "stream",
     "text": [
      "this is a text\n",
      "\n",
      "this is another text\n"
     ]
    }
   ],
   "source": [
    "arr = ['this is a text', 'this is another text']\n",
    "print(\"\\n\\n\".join(arr))"
   ]
  }
 ],
 "metadata": {
  "kernelspec": {
   "display_name": "venv",
   "language": "python",
   "name": "python3"
  },
  "language_info": {
   "codemirror_mode": {
    "name": "ipython",
    "version": 3
   },
   "file_extension": ".py",
   "mimetype": "text/x-python",
   "name": "python",
   "nbconvert_exporter": "python",
   "pygments_lexer": "ipython3",
   "version": "3.10.8"
  }
 },
 "nbformat": 4,
 "nbformat_minor": 2
}
